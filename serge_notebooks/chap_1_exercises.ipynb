{
 "cells": [
  {
   "cell_type": "code",
   "execution_count": 1,
   "metadata": {},
   "outputs": [],
   "source": [
    "import pandas as pd\n",
    "import numpy as np\n",
    "import matplotlib.pyplot as plt\n",
    "import os\n",
    "\n",
    "plt.style.use('../code_snippets_settings/matplotlibrc') # this file sets our global settings for plotting(makes less bloated in the notebook)\n",
    "\n",
    "\n",
    "path = 'https://www.openintro.org/data/csv/' # url path to openintro.org data # access remote source\n",
    "\n",
    "# path = %pwd # local path if you had downloaded the data\n",
    "# path += '/csv/' "
   ]
  },
  {
   "cell_type": "markdown",
   "metadata": {},
   "source": [
    "# 1.9.1 Case study: using stents to prevent strokes\n",
    "\n",
    "---\n",
    "\n",
    "## 1.1 Migraine and acupuncture"
   ]
  },
  {
   "cell_type": "code",
   "execution_count": 2,
   "metadata": {},
   "outputs": [
    {
     "name": "stdout",
     "output_type": "stream",
     "text": [
      "pain_free  no  yes  total\n",
      "group                    \n",
      "control    44    2     46\n",
      "treatment  33   10     43\n",
      "total      77   12     89\n",
      "\n",
      "Treatment group pain-free outcome?\n",
      "23.3%\n",
      "\n",
      "Control group pain-free outcome?\n",
      "4.3%\n",
      "\n",
      "Total pain-free outcome?\n",
      "26.1%\n"
     ]
    }
   ],
   "source": [
    "df1 = pd.read_csv(path+'/migraine.csv')\n",
    "df1 = (df1.groupby('group')\n",
    "      .agg([('value_counts')])  # creates n columns from n category frequency counts\n",
    "      .unstack(1)\n",
    "      .droplevel(1, axis=1)\n",
    "      .droplevel(0, axis=1) # if this isnt dropped, use commented out code below for fancy switching\n",
    "      )\n",
    "\n",
    "# df = (df.loc[['treatment', 'control']]               # swaps index rows\n",
    "#       [[('pain_free', 'yes'), ('pain_free','no')]])  # swaps multi-index columns\n",
    "df1['total'] = df1.sum(1)\n",
    "df1 = df1.append(df1.sum().rename('total'))\n",
    "treatment = round(df1.loc['treatment', 'yes']/df1.loc['treatment', 'total']*100, 1)\n",
    "control = round(df1.loc['control', 'yes']/df1.loc['control', 'total']*100, 1)\n",
    "total = round(df1.loc['total', 'yes']/df1.loc['control', 'total']*100, 1)\n",
    "print(df1)\n",
    "print(f\"\\nTreatment group pain-free outcome?\\n{treatment}%\")\n",
    "print(f\"\\nControl group pain-free outcome?\\n{control}%\")\n",
    "print(f\"\\nTotal pain-free outcome?\\n{total}%\")"
   ]
  },
  {
   "cell_type": "markdown",
   "metadata": {},
   "source": [
    "## 1.2 Sinusitis and antibiotics"
   ]
  },
  {
   "cell_type": "code",
   "execution_count": 4,
   "metadata": {},
   "outputs": [
    {
     "name": "stdout",
     "output_type": "stream",
     "text": [
      "self_reported_improvement  no  yes  total\n",
      "group                                    \n",
      "control                    16   65     81\n",
      "treatment                  19   66     85\n",
      "total                      35  131    166\n",
      "\n",
      "Treatment group outcome?\n",
      "77.6%\n",
      "\n",
      "Control group outcome?\n",
      "80.2%\n"
     ]
    }
   ],
   "source": [
    "df2 = pd.read_csv(path+'/sinusitis.csv')\n",
    "\n",
    "df2 = (df2.groupby('group')\n",
    "      .agg([('value_counts')])  # creates n columns from n category frequency counts\n",
    "      .unstack(1)\n",
    "      .droplevel(1, axis=1)\n",
    "      .droplevel(0, axis=1) # if this isnt dropped, use commented out code below for fancy switching\n",
    "      )\n",
    "# df = (df.loc[['treatment', 'control']]               # swaps index rows\n",
    "#       [[('pain_free', 'yes'), ('pain_free','no')]])  # swaps multi-index columns\n",
    "df2['total'] = df2.sum(1)\n",
    "df2 = df2.append(df2.sum().rename('total'))\n",
    "\n",
    "treatment = round(df2.loc['treatment', 'yes']/df2.loc['treatment', 'total']*100, 1)\n",
    "control = round(df2.loc['control', 'yes']/df2.loc['control', 'total']*100, 1)\n",
    "print(df2)\n",
    "print(f\"\\nTreatment group outcome?\\n{treatment}%\")\n",
    "print(f\"\\nControl group outcome?\\n{control}%\")"
   ]
  },
  {
   "cell_type": "markdown",
   "metadata": {},
   "source": [
    "---\n",
    "\n",
    "# 1.9.2 Data basics\n",
    "\n",
    "## 1.3 Air pollution and birth outcomes, study components\n",
    "\n",
    "a) study subjects born between 1989 and 1993  \n",
    "b) continuous numerical variables    \n",
    "c) is there a relationship between air pollution and pre-term births  "
   ]
  },
  {
   "cell_type": "markdown",
   "metadata": {},
   "source": [
    "## 1.4 Buteyko method, study components\n",
    "\n",
    "a) 600 asthma patients ages 18-69 on asthma medication  \n",
    "b) (quality of life, activity, asthma symptoms, medication reduction): discrete numerical variables 0-10  \n",
    "c) can the Buteyko method reduce asthma syptoms and improve quality of life"
   ]
  },
  {
   "cell_type": "markdown",
   "metadata": {},
   "source": [
    "## 1.5 Cheaters, study components\n",
    "\n",
    "a) 160 children aged 5-15  \n",
    "b) age: continuous numerical, sex: categorical, only child: categorical, cheated or not: categorical  \n",
    "c) does telling children not to cheat affect likelihood of them cheating"
   ]
  },
  {
   "cell_type": "markdown",
   "metadata": {},
   "source": [
    "## 1.6 Stealing, study components\n",
    "\n",
    "a) 129 University of California undergraduates  \n",
    "b) most/least money: categorical, most/least education: categorical, most/least respected jobs: categorical  \n",
    "c) is there a relationship taking/giving candy and self reported socio-economic class  "
   ]
  },
  {
   "cell_type": "markdown",
   "metadata": {},
   "source": [
    "## 1.7 Fisher's irises\n",
    "\n",
    "a) 150 cases  \n",
    "b) 4 numeric continuous variables(sepal length and width, petal length and width) all   \n",
    "c) 3 regular categorical variables(setosa, versicolor, virginica)  "
   ]
  },
  {
   "cell_type": "markdown",
   "metadata": {},
   "source": [
    "## 1.8 Smoing habits of UK residents\n",
    "\n",
    "a) case == resident  \n",
    "b) 1691 participants  \n",
    "c)   \n",
    "categorical         : (sex, marital, smoke)  \n",
    "ordinal categorical : (grossIncome, amtWeekends, amtWeekdays)  \n",
    "continuous numerical: (age)  "
   ]
  },
  {
   "cell_type": "markdown",
   "metadata": {},
   "source": [
    "---\n",
    "\n",
    "# 1.9.3 Overview of data collection principals\n",
    "\n",
    "![Figure](https://jethinabrahamcom.files.wordpress.com/2017/02/scope-of-ineference.png?w=720 \"Figure\")"
   ]
  },
  {
   "cell_type": "markdown",
   "metadata": {},
   "source": [
    "## 1.9 Air pollution and birth outcomes, scope of inference\n",
    "\n",
    "a) population of interest: all births,  \n",
    "sample: southern California births from 89' to 93'   \n",
    "b) the sample can be used to generalize the population of Southern California.   \n",
    "since the study is observational, it cannot be used to establish causal relationships between variables\n"
   ]
  },
  {
   "cell_type": "markdown",
   "metadata": {},
   "source": [
    "## 1.10 Cheaters, scope of inference\n",
    "\n",
    "a) pop of interest: children ages 5-15, sample: 160 children aged 5-15   \n",
    "b) not generalizable no random sampling  \n",
    "cant be used to establish causal relationship: no random assignment  "
   ]
  },
  {
   "cell_type": "markdown",
   "metadata": {},
   "source": [
    "## 1.11 Buteyko method, scope of inference\n",
    "\n",
    "a) population of interest: patients with asthma aged 18-69 on meds, sample: 600 patients of same description    \n",
    "b) generalizable to the population of interest, experimental random assignment: CAN be used to establish causal relationship with this sample  "
   ]
  },
  {
   "cell_type": "markdown",
   "metadata": {},
   "source": [
    "## 1.12 Stealers, scope of inference\n",
    "\n",
    "a) population of interest: UC Berkeley undergrads, sample: 129 such cases  \n",
    "b) generalizable to population of interest, students self-assigned so no causal relationship can be established"
   ]
  },
  {
   "cell_type": "markdown",
   "metadata": {},
   "source": [
    "## 1.13 Relaxing after work\n",
    "\n",
    "a) observation  \n",
    "b) variable  \n",
    "c) sample statistic (mean)  \n",
    "d) population parameter (mean)  "
   ]
  },
  {
   "cell_type": "markdown",
   "metadata": {},
   "source": [
    "## 1.14 Cats on YouTube\n",
    "\n",
    "a) population parameter: % of cat videos on youtube  \n",
    "b) sample statistic: 2%  \n",
    "c) observation: each video in sample  \n",
    "d) variable: cat video, yes/no  "
   ]
  },
  {
   "cell_type": "markdown",
   "metadata": {},
   "source": [
    "## 1.15 GPA and study hours"
   ]
  },
  {
   "cell_type": "code",
   "execution_count": 31,
   "metadata": {},
   "outputs": [
    {
     "data": {
      "image/png": "[encoded data removed]",
      "text/plain": [
       "<Figure size 1008x504 with 1 Axes>"
      ]
     },
     "metadata": {
      "needs_background": "light"
     },
     "output_type": "display_data"
    }
   ],
   "source": [
    "df3 = pd.read_csv(path+'/gpa_study_hours.csv')\n",
    "(df3.plot.scatter(x='study_hours', y='gpa', alpha=0.7,s=50)\n",
    " .set(xlabel='Study hours/week', \n",
    "      ylabel='GPA', \n",
    "      title='GPA and study hours'));"
   ]
  },
  {
   "cell_type": "markdown",
   "metadata": {},
   "source": [
    "a) explanatory var: study hours, response var: gpa\n",
    "b) "
   ]
  },
  {
   "cell_type": "code",
   "execution_count": null,
   "metadata": {},
   "outputs": [],
   "source": []
  }
 ],
 "metadata": {
  "hide_input": false,
  "kernelspec": {
   "display_name": "Python 3.7.5 64-bit ('pluto': virtualenv)",
   "language": "python",
   "name": "python37564bitplutovirtualenvbd638e4b81394a718c79fa3555869541"
  },
  "language_info": {
   "codemirror_mode": {
    "name": "ipython",
    "version": 3
   },
   "file_extension": ".py",
   "mimetype": "text/x-python",
   "name": "python",
   "nbconvert_exporter": "python",
   "pygments_lexer": "ipython3",
   "version": "3.7.5"
  }
 },
 "nbformat": 4,
 "nbformat_minor": 4
}
