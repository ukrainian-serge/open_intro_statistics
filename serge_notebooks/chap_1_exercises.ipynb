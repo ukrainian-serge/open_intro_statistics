{
 "cells": [
  {
   "cell_type": "markdown",
   "metadata": {},
   "source": [
    "# Chapter 1 Exercises\n"
   ]
  },
  {
   "cell_type": "code",
   "execution_count": 1,
   "metadata": {},
   "outputs": [],
   "source": [
    "import pandas as pd\n",
    "import numpy as np\n",
    "import matplotlib.pyplot as plt\n",
    "import seaborn as sns\n",
    "\n",
    "plt.style.use('../code_snippets_settings/matplotlibrc') # this file sets our global settings for plotting(makes less bloated in the notebook)\n",
    "\n",
    "\n",
    "path = 'https://www.openintro.org/data/csv/' # url path to openintro.org data # access remote source\n",
    "\n",
    "# path = %pwd # local path if you had downloaded the data\n",
    "# path += '/csv/' "
   ]
  },
  {
   "cell_type": "markdown",
   "metadata": {},
   "source": [
    "\n",
    "---\n",
    "\n",
    "## 1.1 Migraine and acupuncture"
   ]
  },
  {
   "cell_type": "code",
   "execution_count": 33,
   "metadata": {},
   "outputs": [
    {
     "name": "stdout",
     "output_type": "stream",
     "text": [
      "pain_free  no  yes  total\n",
      "group                    \n",
      "control    44    2     46\n",
      "treatment  33   10     43\n",
      "total      77   12     89\n",
      "\n",
      "What percent of patients in the treatment group were pain free 24 after recieving acupuncture? \n",
      "23.26%\n"
     ]
    }
   ],
   "source": [
    "df1 = pd.read_csv(path+'/migraine.csv')\n",
    "df1 = (df1.groupby('group')\n",
    "      .agg([('value_counts')])  # creates n columns from n category frequency counts\n",
    "      .unstack(1)\n",
    "      .droplevel(1, axis=1)\n",
    "      .droplevel(0, axis=1) # if this isnt dropped, use commented out code below for fancy switching\n",
    "      )\n",
    "\n",
    "# df = (df.loc[['treatment', 'control']]               # swaps index rows\n",
    "#       [[('pain_free', 'yes'), ('pain_free','no')]])  # swaps multi-index columns\n",
    "df1['total'] = df1.sum(1)\n",
    "df1 = df1.append(df1.sum().rename('total'))\n",
    "print(df1)\n",
    "print(\"\\nWhat percent of patients in the treatment group were pain free 24 after recieving acupuncture?\",\n",
    "      f\"\\n{round(df1.loc['treatment', 'yes']/df1.loc['treatment', 'total']*100, 2)}%\")"
   ]
  },
  {
   "cell_type": "markdown",
   "metadata": {},
   "source": [
    "## 1.2 Sinusitis and antibiotics"
   ]
  },
  {
   "cell_type": "code",
   "execution_count": 35,
   "metadata": {},
   "outputs": [
    {
     "name": "stdout",
     "output_type": "stream",
     "text": [
      "self_reported_improvement  no  yes  total\n",
      "group                                    \n",
      "control                    16   65     81\n",
      "treatment                  19   66     85\n",
      "total                      35  131    166\n",
      "\n",
      "What percent of patients in the treatment group experienced significant improvements? \n",
      "23.26%\n"
     ]
    }
   ],
   "source": [
    "df2 = pd.read_csv(path+'/sinusitis.csv')\n",
    "\n",
    "df2 = (df2.groupby('group')\n",
    "      .agg([('value_counts')])  # creates n columns from n category frequency counts\n",
    "      .unstack(1)\n",
    "      .droplevel(1, axis=1)\n",
    "      .droplevel(0, axis=1) # if this isnt dropped, use commented out code below for fancy switching\n",
    "      )\n",
    "\n",
    "# df = (df.loc[['treatment', 'control']]               # swaps index rows\n",
    "#       [[('pain_free', 'yes'), ('pain_free','no')]])  # swaps multi-index columns\n",
    "df2['total'] = df2.sum(1)\n",
    "df2 = df2.append(df2.sum().rename('total'))\n",
    "\n",
    "print(df2)\n",
    "print(\"\\nWhat percent of patients in the treatment group experienced significant improvements?\",\n",
    "      f\"\\n{round(df1.loc['treatment', 'yes']/df1.loc['treatment', 'total']*100, 2)}%\")"
   ]
  },
  {
   "cell_type": "markdown",
   "metadata": {},
   "source": [
    "## 1.3 Air pollution and birth outcomes, study components"
   ]
  },
  {
   "cell_type": "code",
   "execution_count": null,
   "metadata": {},
   "outputs": [],
   "source": []
  }
 ],
 "metadata": {
  "hide_input": false,
  "kernelspec": {
   "display_name": "Python 3.7.5 64-bit ('pluto': virtualenv)",
   "language": "python",
   "name": "python37564bitplutovirtualenvbd638e4b81394a718c79fa3555869541"
  },
  "language_info": {
   "codemirror_mode": {
    "name": "ipython",
    "version": 3
   },
   "file_extension": ".py",
   "mimetype": "text/x-python",
   "name": "python",
   "nbconvert_exporter": "python",
   "pygments_lexer": "ipython3",
   "version": "3.7.5"
  }
 },
 "nbformat": 4,
 "nbformat_minor": 4
}
