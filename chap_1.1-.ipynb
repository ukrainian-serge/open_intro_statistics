{
 "cells": [
  {
   "cell_type": "code",
   "execution_count": 1,
   "metadata": {},
   "outputs": [],
   "source": [
    "import pandas as pd\n",
    "import numpy as np\n",
    "\n",
    "# in each case below, append the name of the dataset.csv\n",
    "web_path = 'https://www.openintro.org/data/csv/' # url path to openintro.org data\n",
    "loc_path = %pwd # local path if you had downloaded the data"
   ]
  },
  {
   "cell_type": "markdown",
   "execution_count": 12,
   "metadata": {},
   "outputs": [
    {
     "ename": "SyntaxError",
     "evalue": "invalid syntax (<ipython-input-12-e32b8ae71e3e>, line 3)",
     "output_type": "error",
     "traceback": [
      "\u001b[1;36m  File \u001b[1;32m\"<ipython-input-12-e32b8ae71e3e>\"\u001b[1;36m, line \u001b[1;32m3\u001b[0m\n\u001b[1;33m    ---\u001b[0m\n\u001b[1;37m       ^\u001b[0m\n\u001b[1;31mSyntaxError\u001b[0m\u001b[1;31m:\u001b[0m invalid syntax\n"
     ]
    }
   ],
   "source": [
    "# Chapter 1\n",
    "\n",
    "---\n",
    "## Case study: using stents to prevent strokes\n",
    "[video](https://www.openintro.org/go?id=video_stat_stents_to_prevent_strokes&referrer=/book/os/index.php)\n",
    "\n",
    "### Table 1.1 - 1.2 (`stent30`, `stent365`)"
   ]
  },
  {
   "cell_type": "code",
   "execution_count": 4,
   "metadata": {},
   "outputs": [
    {
     "data": {
      "text/html": "<div>\n<style scoped>\n    .dataframe tbody tr th:only-of-type {\n        vertical-align: middle;\n    }\n\n    .dataframe tbody tr th {\n        vertical-align: top;\n    }\n\n    .dataframe thead th {\n        text-align: right;\n    }\n</style>\n<table border=\"1\" class=\"dataframe\">\n  <thead>\n    <tr style=\"text-align: right;\">\n      <th></th>\n      <th>group</th>\n      <th>0-30 days</th>\n      <th>0-365 days</th>\n    </tr>\n    <tr>\n      <th>patient</th>\n      <th></th>\n      <th></th>\n      <th></th>\n    </tr>\n  </thead>\n  <tbody>\n    <tr>\n      <th>1</th>\n      <td>treatment</td>\n      <td>stroke</td>\n      <td>stroke</td>\n    </tr>\n    <tr>\n      <th>2</th>\n      <td>treatment</td>\n      <td>stroke</td>\n      <td>stroke</td>\n    </tr>\n    <tr>\n      <th>3</th>\n      <td>treatment</td>\n      <td>stroke</td>\n      <td>stroke</td>\n    </tr>\n    <tr>\n      <th>4</th>\n      <td>treatment</td>\n      <td>stroke</td>\n      <td>stroke</td>\n    </tr>\n    <tr>\n      <th>5</th>\n      <td>treatment</td>\n      <td>stroke</td>\n      <td>stroke</td>\n    </tr>\n    <tr>\n      <th>...</th>\n      <td>...</td>\n      <td>...</td>\n      <td>...</td>\n    </tr>\n    <tr>\n      <th>447</th>\n      <td>control</td>\n      <td>no event</td>\n      <td>no event</td>\n    </tr>\n    <tr>\n      <th>448</th>\n      <td>control</td>\n      <td>no event</td>\n      <td>no event</td>\n    </tr>\n    <tr>\n      <th>449</th>\n      <td>control</td>\n      <td>no event</td>\n      <td>no event</td>\n    </tr>\n    <tr>\n      <th>450</th>\n      <td>control</td>\n      <td>no event</td>\n      <td>no event</td>\n    </tr>\n    <tr>\n      <th>451</th>\n      <td>control</td>\n      <td>no event</td>\n      <td>no event</td>\n    </tr>\n  </tbody>\n</table>\n<p>451 rows × 3 columns</p>\n</div>",
      "text/plain": "             group 0-30 days 0-365 days\npatient                                \n1        treatment    stroke     stroke\n2        treatment    stroke     stroke\n3        treatment    stroke     stroke\n4        treatment    stroke     stroke\n5        treatment    stroke     stroke\n...            ...       ...        ...\n447        control  no event   no event\n448        control  no event   no event\n449        control  no event   no event\n450        control  no event   no event\n451        control  no event   no event\n\n[451 rows x 3 columns]"
     },
     "execution_count": 4,
     "metadata": {},
     "output_type": "execute_result"
    }
   ],
   "source": [
    "p_30 = pd.read_csv(web_path+\"stent30.csv\", header=0, names=['group', '0-30 days'])\n",
    "p_365 = pd.read_csv(web_path+\"stent365.csv\", header=0, names=['group', '0-365 days'])\n",
    "\n",
    "one_one = p_30.merge(p_365, \n",
    "    on='group', \n",
    "    left_index=True,\n",
    "    right_index=True\n",
    "    ).set_index(np.arange(1, 452))\n",
    "\n",
    "one_one.index.name = 'patient'\n",
    "one_one"
   ]
  },
  {
   "cell_type": "code",
   "execution_count": 12,
   "metadata": {},
   "outputs": [
    {
     "data": {
      "text/html": "<div>\n<style scoped>\n    .dataframe tbody tr th:only-of-type {\n        vertical-align: middle;\n    }\n\n    .dataframe tbody tr th {\n        vertical-align: top;\n    }\n\n    .dataframe thead tr th {\n        text-align: left;\n    }\n\n    .dataframe thead tr:last-of-type th {\n        text-align: right;\n    }\n</style>\n<table border=\"1\" class=\"dataframe\">\n  <thead>\n    <tr>\n      <th>days</th>\n      <th colspan=\"2\" halign=\"left\">0-30</th>\n      <th colspan=\"2\" halign=\"left\">0-365</th>\n    </tr>\n    <tr>\n      <th>outcome</th>\n      <th>stroke</th>\n      <th>no event</th>\n      <th>stroke</th>\n      <th>no event</th>\n    </tr>\n    <tr>\n      <th>group</th>\n      <th></th>\n      <th></th>\n      <th></th>\n      <th></th>\n    </tr>\n  </thead>\n  <tbody>\n    <tr>\n      <th>treatment</th>\n      <td>33</td>\n      <td>191</td>\n      <td>45</td>\n      <td>179</td>\n    </tr>\n    <tr>\n      <th>control</th>\n      <td>13</td>\n      <td>214</td>\n      <td>28</td>\n      <td>199</td>\n    </tr>\n  </tbody>\n</table>\n</div>",
      "text/plain": "days        0-30           0-365         \noutcome   stroke no event stroke no event\ngroup                                    \ntreatment     33      191     45      179\ncontrol       13      214     28      199"
     },
     "execution_count": 12,
     "metadata": {},
     "output_type": "execute_result"
    }
   ],
   "source": [
    "time_points = {\n",
    "    '0-30':(p_30\n",
    "            .pivot_table(index='group', \n",
    "            columns=['0-30 days'], \n",
    "            aggfunc=len)[::-1].T[::-1]),\n",
    "            \n",
    "    '0-365':(p_365\n",
    "            .pivot_table(index='group', \n",
    "            columns=['0-365 days'], \n",
    "            aggfunc=len)[::-1].T[::-1])\n",
    "    \n",
    "} ## [::-1].T[::-1] to sort the table\n",
    "\n",
    "one_two = pd.concat(\n",
    "    time_points, \n",
    "    names=['days', 'outcome'],\n",
    "    ).T\n",
    "\n",
    "one_two"
   ]
  },
  {
   "cell_type": "markdown",
   "execution_count": null,
   "metadata": {},
   "outputs": [],
   "source": [
    "---\n",
    "\n",
    "## Data basics\n",
    "[video](https://www.openintro.org/go?id=video_stat_data_basics&referrer=/book/os/index.php)\n",
    "\n",
    "### Table (`email50`) variables:\n",
    "\n",
    "-    **spam** - Indicator for whether the email was spam.\n",
    "-    **to_multiple** - Indicator for whether the email was addressed to more than one recipient.\n",
    "-    **from** - Whether the message was listed as from anyone (this is usually set by default for regular outgoing email).\n",
    "-    **cc** - Indicator for whether anyone was CCed.\n",
    "-    **sent_email** - Indicator for whether the sender had been sent an email in the last 30 days.\n",
    "-    **time** - Time at which email was sent.\n",
    "-    **image** - The number of images attached.\n",
    "-    **attach** - The number of attached files.\n",
    "-    **dollar** - The number of times a dollar sign or the word \"dollar\" appeared in the email.\n",
    "-    **winner** - Indicates whether \"winner\" appeared in the email.\n",
    "-    **inherit** - The number of times \"inherit\" (or an extension, such as \"inheritance\") appeared in the email.\n",
    "-    **viagra** - The number of times \"viagra\" appeared in the email.\n",
    "-    **password** - The number of times \"password\" appeared in the email.\n",
    "-    **num_char** - The number of characters in the email, in thousands.\n",
    "-    **line_breaks** - The number of line breaks in the email (does not count text wrapping).\n",
    "-    **format** - Indicates whether the email was written using HTML (e.g. may have included bolding or active links).\n",
    "-    **re_subj** - Whether the subject started with \"Re:\", \"RE:\", \"re:\", or \"rE:\"\n",
    "-    **exclaim_subj** - Whether there was an exclamation point in the subject.\n",
    "-    **urgent_subj** - Whether the word \"urgent\" was in the email subject.\n",
    "-    **exclaim_mess** - The number of exclamation points in the email message.\n",
    "-    **period_mess** - The number of periods in the message.\n",
    "-    **signoff** - Whether a sign-off of \"Cheers\", \"Regards\", or \"Best\" (also, \"Best Regards\") was used.\n",
    "-    **number** - Factor variable saying whether there was no number, a small number (under 1 million), or a big number.\n",
    "\n",
    "### Table"
   ]
  },
  {
   "cell_type": "code",
   "execution_count": 8,
   "metadata": {},
   "outputs": [
    {
     "data": {
      "text/html": "<div>\n<style scoped>\n    .dataframe tbody tr th:only-of-type {\n        vertical-align: middle;\n    }\n\n    .dataframe tbody tr th {\n        vertical-align: top;\n    }\n\n    .dataframe thead th {\n        text-align: right;\n    }\n</style>\n<table border=\"1\" class=\"dataframe\">\n  <thead>\n    <tr style=\"text-align: right;\">\n      <th></th>\n      <th>spam</th>\n      <th>to_multiple</th>\n      <th>from</th>\n      <th>cc</th>\n      <th>sent_email</th>\n      <th>time</th>\n      <th>image</th>\n      <th>attach</th>\n      <th>dollar</th>\n      <th>winner</th>\n      <th>...</th>\n      <th>viagra</th>\n      <th>password</th>\n      <th>num_char</th>\n      <th>line_breaks</th>\n      <th>format</th>\n      <th>re_subj</th>\n      <th>exclaim_subj</th>\n      <th>urgent_subj</th>\n      <th>exclaim_mess</th>\n      <th>number</th>\n    </tr>\n  </thead>\n  <tbody>\n    <tr>\n      <th>0</th>\n      <td>0</td>\n      <td>0</td>\n      <td>1</td>\n      <td>0</td>\n      <td>1</td>\n      <td>2012-01-04 05:19:16</td>\n      <td>0</td>\n      <td>0</td>\n      <td>0</td>\n      <td>no</td>\n      <td>...</td>\n      <td>0</td>\n      <td>0</td>\n      <td>21.705</td>\n      <td>551</td>\n      <td>1</td>\n      <td>1</td>\n      <td>0</td>\n      <td>0</td>\n      <td>8</td>\n      <td>small</td>\n    </tr>\n    <tr>\n      <th>1</th>\n      <td>0</td>\n      <td>0</td>\n      <td>1</td>\n      <td>0</td>\n      <td>0</td>\n      <td>2012-02-16 12:10:06</td>\n      <td>0</td>\n      <td>0</td>\n      <td>0</td>\n      <td>no</td>\n      <td>...</td>\n      <td>0</td>\n      <td>0</td>\n      <td>7.011</td>\n      <td>183</td>\n      <td>1</td>\n      <td>0</td>\n      <td>0</td>\n      <td>0</td>\n      <td>1</td>\n      <td>big</td>\n    </tr>\n    <tr>\n      <th>2</th>\n      <td>1</td>\n      <td>0</td>\n      <td>1</td>\n      <td>4</td>\n      <td>0</td>\n      <td>2012-01-04 07:36:23</td>\n      <td>0</td>\n      <td>2</td>\n      <td>0</td>\n      <td>no</td>\n      <td>...</td>\n      <td>0</td>\n      <td>0</td>\n      <td>0.631</td>\n      <td>28</td>\n      <td>0</td>\n      <td>0</td>\n      <td>0</td>\n      <td>0</td>\n      <td>2</td>\n      <td>none</td>\n    </tr>\n    <tr>\n      <th>3</th>\n      <td>0</td>\n      <td>0</td>\n      <td>1</td>\n      <td>0</td>\n      <td>0</td>\n      <td>2012-01-04 09:49:52</td>\n      <td>0</td>\n      <td>0</td>\n      <td>0</td>\n      <td>no</td>\n      <td>...</td>\n      <td>0</td>\n      <td>0</td>\n      <td>2.454</td>\n      <td>61</td>\n      <td>0</td>\n      <td>0</td>\n      <td>0</td>\n      <td>0</td>\n      <td>1</td>\n      <td>small</td>\n    </tr>\n    <tr>\n      <th>4</th>\n      <td>0</td>\n      <td>0</td>\n      <td>1</td>\n      <td>0</td>\n      <td>0</td>\n      <td>2012-01-27 01:34:45</td>\n      <td>0</td>\n      <td>0</td>\n      <td>9</td>\n      <td>no</td>\n      <td>...</td>\n      <td>0</td>\n      <td>1</td>\n      <td>41.623</td>\n      <td>1088</td>\n      <td>1</td>\n      <td>0</td>\n      <td>0</td>\n      <td>0</td>\n      <td>43</td>\n      <td>small</td>\n    </tr>\n  </tbody>\n</table>\n<p>5 rows × 21 columns</p>\n</div>",
      "text/plain": "   spam  to_multiple  from  cc  sent_email                 time  image  \\\n0     0            0     1   0           1  2012-01-04 05:19:16      0   \n1     0            0     1   0           0  2012-02-16 12:10:06      0   \n2     1            0     1   4           0  2012-01-04 07:36:23      0   \n3     0            0     1   0           0  2012-01-04 09:49:52      0   \n4     0            0     1   0           0  2012-01-27 01:34:45      0   \n\n   attach  dollar winner  ...  viagra  password  num_char  line_breaks  \\\n0       0       0     no  ...       0         0    21.705          551   \n1       0       0     no  ...       0         0     7.011          183   \n2       2       0     no  ...       0         0     0.631           28   \n3       0       0     no  ...       0         0     2.454           61   \n4       0       9     no  ...       0         1    41.623         1088   \n\n   format  re_subj  exclaim_subj  urgent_subj  exclaim_mess  number  \n0       1        1             0            0             8   small  \n1       1        0             0            0             1     big  \n2       0        0             0            0             2    none  \n3       0        0             0            0             1   small  \n4       1        0             0            0            43   small  \n\n[5 rows x 21 columns]"
     },
     "execution_count": 8,
     "metadata": {},
     "output_type": "execute_result"
    }
   ],
   "source": [
    "one_three = pd.read_csv(\n",
    "    web_path+\"email50.csv\", \n",
    "    header=0)\n",
    "one_three.head()"
   ]
  },
  {
   "cell_type": "markdown",
   "execution_count": null,
   "metadata": {},
   "outputs": [],
   "source": [
    "### Table 1.5"
   ]
  }
 ],
 "metadata": {
  "kernelspec": {
   "name": "python3",
   "display_name": "Python 3"
  }
 },
 "nbformat": 4,
 "nbformat_minor": 2
}