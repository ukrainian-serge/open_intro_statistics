{
 "cells": [
  {
   "cell_type": "code",
   "execution_count": 33,
   "metadata": {},
   "outputs": [],
   "source": [
    "import pandas as pd\n",
    "import numpy as np\n",
    "\n",
    "web_path = 'https://www.openintro.org/data/csv/'\n",
    "loc_path = %pwd"
   ]
  },
  {
   "cell_type": "markdown",
   "execution_count": 12,
   "metadata": {},
   "outputs": [
    {
     "ename": "SyntaxError",
     "evalue": "invalid syntax (<ipython-input-12-e32b8ae71e3e>, line 3)",
     "output_type": "error",
     "traceback": [
      "\u001b[1;36m  File \u001b[1;32m\"<ipython-input-12-e32b8ae71e3e>\"\u001b[1;36m, line \u001b[1;32m3\u001b[0m\n\u001b[1;33m    ---\u001b[0m\n\u001b[1;37m       ^\u001b[0m\n\u001b[1;31mSyntaxError\u001b[0m\u001b[1;31m:\u001b[0m invalid syntax\n"
     ]
    }
   ],
   "source": [
    "# Chapter 1\n",
    "\n",
    "recreation on tables in book\n",
    "\n",
    "---\n",
    "\n",
    "## 1.1"
   ]
  },
  {
   "cell_type": "code",
   "execution_count": 48,
   "metadata": {},
   "outputs": [
    {
     "data": {
      "text/html": "<div>\n<style scoped>\n    .dataframe tbody tr th:only-of-type {\n        vertical-align: middle;\n    }\n\n    .dataframe tbody tr th {\n        vertical-align: top;\n    }\n\n    .dataframe thead th {\n        text-align: right;\n    }\n</style>\n<table border=\"1\" class=\"dataframe\">\n  <thead>\n    <tr style=\"text-align: right;\">\n      <th></th>\n      <th>group</th>\n      <th>outcome</th>\n      <th>group</th>\n      <th>outcome</th>\n    </tr>\n  </thead>\n  <tbody>\n    <tr>\n      <th>1</th>\n      <td>treatment</td>\n      <td>stroke</td>\n      <td>treatment</td>\n      <td>stroke</td>\n    </tr>\n    <tr>\n      <th>2</th>\n      <td>treatment</td>\n      <td>stroke</td>\n      <td>treatment</td>\n      <td>stroke</td>\n    </tr>\n    <tr>\n      <th>3</th>\n      <td>treatment</td>\n      <td>stroke</td>\n      <td>treatment</td>\n      <td>stroke</td>\n    </tr>\n    <tr>\n      <th>4</th>\n      <td>treatment</td>\n      <td>stroke</td>\n      <td>treatment</td>\n      <td>stroke</td>\n    </tr>\n    <tr>\n      <th>5</th>\n      <td>treatment</td>\n      <td>stroke</td>\n      <td>treatment</td>\n      <td>stroke</td>\n    </tr>\n    <tr>\n      <th>...</th>\n      <td>...</td>\n      <td>...</td>\n      <td>...</td>\n      <td>...</td>\n    </tr>\n    <tr>\n      <th>447</th>\n      <td>control</td>\n      <td>no event</td>\n      <td>control</td>\n      <td>no event</td>\n    </tr>\n    <tr>\n      <th>448</th>\n      <td>control</td>\n      <td>no event</td>\n      <td>control</td>\n      <td>no event</td>\n    </tr>\n    <tr>\n      <th>449</th>\n      <td>control</td>\n      <td>no event</td>\n      <td>control</td>\n      <td>no event</td>\n    </tr>\n    <tr>\n      <th>450</th>\n      <td>control</td>\n      <td>no event</td>\n      <td>control</td>\n      <td>no event</td>\n    </tr>\n    <tr>\n      <th>451</th>\n      <td>NaN</td>\n      <td>NaN</td>\n      <td>NaN</td>\n      <td>NaN</td>\n    </tr>\n  </tbody>\n</table>\n<p>451 rows × 4 columns</p>\n</div>",
      "text/plain": "         group   outcome      group   outcome\n1    treatment    stroke  treatment    stroke\n2    treatment    stroke  treatment    stroke\n3    treatment    stroke  treatment    stroke\n4    treatment    stroke  treatment    stroke\n5    treatment    stroke  treatment    stroke\n..         ...       ...        ...       ...\n447    control  no event    control  no event\n448    control  no event    control  no event\n449    control  no event    control  no event\n450    control  no event    control  no event\n451        NaN       NaN        NaN       NaN\n\n[451 rows x 4 columns]"
     },
     "execution_count": 48,
     "metadata": {},
     "output_type": "execute_result"
    }
   ],
   "source": [
    "p_30 = pd.read_csv(web_path+\"stent30.csv\", header=0)\n",
    "p_365 = pd.read_csv(web_path+\"stent365.csv\", header=0)\n",
    "\n",
    "one_one = pd.concat(\n",
    "    objs=[p_30, p_365], \n",
    "    names=['days', 'outcome'],\n",
    "    axis=1\n",
    "    ).reindex(np.arange(1, 452)) # reindex to start from 1\n",
    "\n",
    "\n",
    "one_one"
   ]
  },
  {
   "cell_type": "code",
   "execution_count": 24,
   "metadata": {},
   "outputs": [
    {
     "name": "stdout",
     "output_type": "stream",
     "text": "days          30             365         \noutcome   stroke no event stroke no event\ngroup                                    \ntreatment     33      191     45      179\ncontrol       13      214     28      199\n"
    }
   ],
   "source": [
    "pieces = {\n",
    "    '30':(p_30\n",
    "            .pivot_table(index='group', \n",
    "            columns=['outcome'], \n",
    "            aggfunc=len)[::-1].T[::-1]),\n",
    "            \n",
    "    '365':(p_365\n",
    "            .pivot_table(index='group', \n",
    "            columns=['outcome'], \n",
    "            aggfunc=len)[::-1].T[::-1])\n",
    "    \n",
    "} # [::-1] * 2 to exact replicate R table in the book\n",
    "\n",
    "df = pd.concat(\n",
    "    pieces, \n",
    "    names=['days', 'outcome'],\n",
    "    ).T\n",
    "\n",
    "print(df)"
   ]
  },
  {
   "cell_type": "code",
   "execution_count": null,
   "metadata": {},
   "outputs": [],
   "source": []
  },
  {
   "cell_type": "code",
   "execution_count": null,
   "metadata": {},
   "outputs": [],
   "source": []
  }
 ],
 "metadata": {
  "kernelspec": {
   "name": "python3",
   "display_name": "Python 3"
  }
 },
 "nbformat": 4,
 "nbformat_minor": 2
}