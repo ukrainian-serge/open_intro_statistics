{
 "cells": [
  {
   "cell_type": "code",
   "execution_count": 127,
   "metadata": {},
   "outputs": [],
   "source": [
    "import pandas as pd\n",
    "import numpy as np\n",
    "\n",
    "# in each case below, append the name of the dataset.csv\n",
    "web_path = 'https://www.openintro.org/data/csv/' # url path to openintro.org data\n",
    "loc_path = %pwd # local path if you had downloaded the data"
   ]
  },
  {
   "cell_type": "markdown",
   "execution_count": 12,
   "metadata": {},
   "outputs": [
    {
     "ename": "SyntaxError",
     "evalue": "invalid syntax (<ipython-input-12-e32b8ae71e3e>, line 3)",
     "output_type": "error",
     "traceback": [
      "\u001b[1;36m  File \u001b[1;32m\"<ipython-input-12-e32b8ae71e3e>\"\u001b[1;36m, line \u001b[1;32m3\u001b[0m\n\u001b[1;33m    ---\u001b[0m\n\u001b[1;37m       ^\u001b[0m\n\u001b[1;31mSyntaxError\u001b[0m\u001b[1;31m:\u001b[0m invalid syntax\n"
     ]
    }
   ],
   "source": [
    "# Chapter 1\n",
    "\n",
    "recreation of tables in book\n",
    "\n",
    "---\n",
    "\n",
    "## 1.1"
   ]
  },
  {
   "cell_type": "code",
   "execution_count": 135,
   "metadata": {},
   "outputs": [
    {
     "data": {
      "text/html": "<div>\n<style scoped>\n    .dataframe tbody tr th:only-of-type {\n        vertical-align: middle;\n    }\n\n    .dataframe tbody tr th {\n        vertical-align: top;\n    }\n\n    .dataframe thead th {\n        text-align: right;\n    }\n</style>\n<table border=\"1\" class=\"dataframe\">\n  <thead>\n    <tr style=\"text-align: right;\">\n      <th></th>\n      <th>group</th>\n      <th>0-30 days</th>\n      <th>0-365 days</th>\n    </tr>\n    <tr>\n      <th>patient</th>\n      <th></th>\n      <th></th>\n      <th></th>\n    </tr>\n  </thead>\n  <tbody>\n    <tr>\n      <th>1</th>\n      <td>treatment</td>\n      <td>stroke</td>\n      <td>stroke</td>\n    </tr>\n    <tr>\n      <th>2</th>\n      <td>treatment</td>\n      <td>stroke</td>\n      <td>stroke</td>\n    </tr>\n    <tr>\n      <th>3</th>\n      <td>treatment</td>\n      <td>stroke</td>\n      <td>stroke</td>\n    </tr>\n    <tr>\n      <th>4</th>\n      <td>treatment</td>\n      <td>stroke</td>\n      <td>stroke</td>\n    </tr>\n    <tr>\n      <th>5</th>\n      <td>treatment</td>\n      <td>stroke</td>\n      <td>stroke</td>\n    </tr>\n    <tr>\n      <th>...</th>\n      <td>...</td>\n      <td>...</td>\n      <td>...</td>\n    </tr>\n    <tr>\n      <th>447</th>\n      <td>control</td>\n      <td>no event</td>\n      <td>no event</td>\n    </tr>\n    <tr>\n      <th>448</th>\n      <td>control</td>\n      <td>no event</td>\n      <td>no event</td>\n    </tr>\n    <tr>\n      <th>449</th>\n      <td>control</td>\n      <td>no event</td>\n      <td>no event</td>\n    </tr>\n    <tr>\n      <th>450</th>\n      <td>control</td>\n      <td>no event</td>\n      <td>no event</td>\n    </tr>\n    <tr>\n      <th>451</th>\n      <td>control</td>\n      <td>no event</td>\n      <td>no event</td>\n    </tr>\n  </tbody>\n</table>\n<p>451 rows × 3 columns</p>\n</div>",
      "text/plain": "             group 0-30 days 0-365 days\npatient                                \n1        treatment    stroke     stroke\n2        treatment    stroke     stroke\n3        treatment    stroke     stroke\n4        treatment    stroke     stroke\n5        treatment    stroke     stroke\n...            ...       ...        ...\n447        control  no event   no event\n448        control  no event   no event\n449        control  no event   no event\n450        control  no event   no event\n451        control  no event   no event\n\n[451 rows x 3 columns]"
     },
     "execution_count": 135,
     "metadata": {},
     "output_type": "execute_result"
    }
   ],
   "source": [
    "p_30 = pd.read_csv(web_path+\"stent30.csv\", header=0, names=['group', '0-30 days'])\n",
    "p_365 = pd.read_csv(web_path+\"stent365.csv\", header=0, names=['group', '0-365 days'])\n",
    "\n",
    "one_one = p_30.merge(p_365, \n",
    "    on='group', \n",
    "    left_index=True,\n",
    "    right_index=True\n",
    "    ).set_index(np.arange(1, 452))\n",
    "\n",
    "one_one.index.name = 'patient'\n",
    "one_one"
   ]
  },
  {
   "cell_type": "markdown",
   "execution_count": null,
   "metadata": {},
   "outputs": [],
   "source": [
    "## 1.2"
   ]
  },
  {
   "cell_type": "code",
   "execution_count": 138,
   "metadata": {},
   "outputs": [
    {
     "data": {
      "text/html": "<div>\n<style scoped>\n    .dataframe tbody tr th:only-of-type {\n        vertical-align: middle;\n    }\n\n    .dataframe tbody tr th {\n        vertical-align: top;\n    }\n\n    .dataframe thead tr th {\n        text-align: left;\n    }\n\n    .dataframe thead tr:last-of-type th {\n        text-align: right;\n    }\n</style>\n<table border=\"1\" class=\"dataframe\">\n  <thead>\n    <tr>\n      <th>days</th>\n      <th colspan=\"2\" halign=\"left\">0-30</th>\n      <th colspan=\"2\" halign=\"left\">0-365</th>\n    </tr>\n    <tr>\n      <th>outcome</th>\n      <th>stroke</th>\n      <th>no event</th>\n      <th>stroke</th>\n      <th>no event</th>\n    </tr>\n    <tr>\n      <th>group</th>\n      <th></th>\n      <th></th>\n      <th></th>\n      <th></th>\n    </tr>\n  </thead>\n  <tbody>\n    <tr>\n      <th>treatment</th>\n      <td>33</td>\n      <td>191</td>\n      <td>45</td>\n      <td>179</td>\n    </tr>\n    <tr>\n      <th>control</th>\n      <td>13</td>\n      <td>214</td>\n      <td>28</td>\n      <td>199</td>\n    </tr>\n  </tbody>\n</table>\n</div>",
      "text/plain": "days        0-30           0-365         \noutcome   stroke no event stroke no event\ngroup                                    \ntreatment     33      191     45      179\ncontrol       13      214     28      199"
     },
     "execution_count": 138,
     "metadata": {},
     "output_type": "execute_result"
    }
   ],
   "source": [
    "# p_30 = pd.read_csv(web_path+\"stent30.csv\", header=0, names=['group', '0-30 days'])\n",
    "# p_365 = pd.read_csv(web_path+\"stent365.csv\", header=0, names=['group', '0-365 days'])\n",
    "\n",
    "pieces = {\n",
    "    '0-30':(p_30\n",
    "            .pivot_table(index='group', \n",
    "            columns=['0-30 days'], \n",
    "            aggfunc=len)[::-1].T[::-1]),\n",
    "            \n",
    "    '0-365':(p_365\n",
    "            .pivot_table(index='group', \n",
    "            columns=['0-365 days'], \n",
    "            aggfunc=len)[::-1].T[::-1])\n",
    "    \n",
    "} # [::-1] * 2 to exact replicate R table in the book\n",
    "\n",
    "one_two = pd.concat(\n",
    "    pieces, \n",
    "    names=['days', 'outcome'],\n",
    "    ).T\n",
    "\n",
    "one_two"
   ]
  },
  {
   "cell_type": "code",
   "execution_count": null,
   "metadata": {},
   "outputs": [],
   "source": []
  },
  {
   "cell_type": "code",
   "execution_count": null,
   "metadata": {},
   "outputs": [],
   "source": []
  }
 ],
 "metadata": {
  "kernelspec": {
   "name": "python3",
   "display_name": "Python 3"
  }
 },
 "nbformat": 4,
 "nbformat_minor": 2
}